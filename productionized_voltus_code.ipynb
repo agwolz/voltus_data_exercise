{
 "cells": [
  {
   "cell_type": "code",
   "execution_count": 216,
   "metadata": {},
   "outputs": [],
   "source": [
    "import pandas as pd\n",
    "import numpy as np\n",
    "import matplotlib.pyplot as plt\n",
    "import seaborn as sns\n",
    "import datetime"
   ]
  },
  {
   "cell_type": "markdown",
   "metadata": {},
   "source": [
    "**Key Assumptions:**\n",
    "* Event date is weekday\n",
    "* There were no prior response events or major Holidays\n",
    "* Using the Weather-Sensitive CBL option\n",
    "* 2PM - 6PM EDT is inclusive of 6 PM"
   ]
  },
  {
   "cell_type": "markdown",
   "metadata": {},
   "source": [
    "### Define Calculations"
   ]
  },
  {
   "cell_type": "code",
   "execution_count": 217,
   "metadata": {},
   "outputs": [],
   "source": [
    "def clean_dataset(csv):\n",
    "    \n",
    "    ## First, ingest the CSV for each business\n",
    "    print('Resource:', csv)\n",
    "    \n",
    "    df = pd.read_csv(csv)\n",
    "    df.rename(columns={\"HE (EST)\": \"time_est\",\"kWH\":\"kwh\"}, inplace=True)\n",
    "    \n",
    "    ## Create a datetimeindex dataframe for ease of use with time series work\n",
    "    df.index = pd.DatetimeIndex(df.time_est, copy=False)\n",
    "    df.drop(columns='time_est', inplace=True)\n",
    "    \n",
    "    ## Print subset of results for QA\n",
    "    print(\"CSV has %s rows and %s column(s)\" %(df.shape[0], df.shape[1]))\n",
    "    \n",
    "    return df\n",
    "    "
   ]
  },
  {
   "cell_type": "code",
   "execution_count": 218,
   "metadata": {},
   "outputs": [],
   "source": [
    "def calculate_cbl(data, event_date, event_start_hr, event_end_hr):\n",
    "    \n",
    "    event_hrs = list(range(event_start_hr, event_end_hr+1))\n",
    "    adjustment_period_hrs = list(range(event_start_hr-4, event_start_hr-2))\n",
    "    \n",
    "    print('Event Hours:', event_hrs)\n",
    "    print('Adjustment Hours:', adjustment_period_hrs)\n",
    "    \n",
    "    ## Round each 15 minute interval down to its hour \n",
    "    data.index = data.index.floor('H')\n",
    "    data = data.groupby(data.index)['kwh'].sum().reset_index()\n",
    "    \n",
    "    ## Reset datetimeindex\n",
    "    data.index = pd.DatetimeIndex(data.time_est, copy=False)\n",
    "    data.drop(columns='time_est', inplace=True)\n",
    "    \n",
    "    ## Calculate 30 day window\n",
    "    period_start = df.loc[event_date][:1].index - datetime.timedelta(30)\n",
    "    \n",
    "    ## Spotcheck dates\n",
    "    print(\"Event date:\",event_date)\n",
    "    print(\"30 days prior date:\",period_start[0].date())\n",
    "    \n",
    "    ## Filter down to 30 day window\n",
    "    subset_1 = data.loc[str(period_start[0].date()):str(event_date)]\n",
    "    \n",
    "    ## Create hour field for event start and end hour filtering\n",
    "    subset_1['hour'] = subset_1.index.hour\n",
    "    \n",
    "    ## Filter down to hours of event\n",
    "    subset_2 = subset_1[subset_1.hour.isin(event_hrs)]\n",
    "    \n",
    "    ## Find peak usage hour within hours of event and calculate seed value\n",
    "    peak_hour = subset_2[subset_2.kwh==subset_2.kwh.max()]\n",
    "    seed_value = peak_hour.kwh * .25\n",
    "    print('Seed value:', seed_value[0])\n",
    "    \n",
    "    ## Find Avg Daily Event Period Usage: simple average of actual usage for weekdays during hours of event\n",
    "    ## Logic below to select weekdays only\n",
    "    subset_3 = subset_2[subset_2.index.weekday.isin([0,1,2,3,4])]\n",
    "    \n",
    "    ## Group by date to get Average Daily Event Period Usage\n",
    "    subset_4 = subset_3.groupby(subset_3.index.date)['kwh'].mean().reset_index()\n",
    "    \n",
    "    ## Eliminate low usage days, as defined by average daily usage below seed value\n",
    "    subset_5 = subset_4[subset_4.kwh>=seed_value[0]]\n",
    "    \n",
    "    ## Next, rank to get top 5 by Average Daily Event Period Usage\n",
    "    subset_6 = subset_5.sort_values(by='kwh', ascending=False)[:5]\n",
    "    \n",
    "    ## Reset data to datetimeindex\n",
    "    subset_6.index = pd.DatetimeIndex(subset_6['index'], copy=False)\n",
    "    subset_6.drop(columns='index', inplace=True)\n",
    "    \n",
    "    ## Revert to get hour granularity for the top 5 days\n",
    "    subset_7 = pd.DataFrame()\n",
    "\n",
    "    for date in subset_6.index.date:\n",
    "        values = subset_3.loc[str(date)]\n",
    "        subset_7 = pd.concat([subset_7,values])\n",
    "    \n",
    "    ## Calculate hourly Average Day CBL values for the event\n",
    "    subset_8 = subset_7.groupby(by='hour')['kwh'].mean()\n",
    "    \n",
    "    #### Calculate Event Final Adjustment Factor #####\n",
    "    subset_9 = pd.DataFrame()\n",
    "    \n",
    "    ## Get the hourly data for the 5 days selected for Average CBL Basis\n",
    "    for date in subset_6.index.date:\n",
    "        values = subset_1.loc[str(date)]\n",
    "        subset_9 = pd.concat([subset_9,values])\n",
    "    \n",
    "    ## Apply Average Day CBL for adjusted hours\n",
    "    subset_10 = subset_9[subset_9.hour.isin(adjustment_period_hrs)]\n",
    "    \n",
    "    ## Calculate Adjustment Basis Average CVL, as defined by average of the average of both adjusted hours\n",
    "    adjust_basis_avg_cbl = subset_10.groupby(by='hour')['kwh'].mean().mean()\n",
    "    \n",
    "    ## Adjustment Basis Average Load is simple average of resource's load on event day for adjusted hours\n",
    "    subset_11 = data.loc[event_date][data.loc[event_date].index.hour.isin(adjustment_period_hrs)]\n",
    "    adjust_basis_avg_load = subset_11['kwh'].mean()\n",
    "    \n",
    "    ## Find Gross Adjustment Factor = Adjustment Basis Average Load / Adjustment Basis Average CBL\n",
    "    gross_adjust_factor = adjust_basis_avg_load / adjust_basis_avg_cbl\n",
    "    \n",
    "    ## Determine Final Adjustment Factor\n",
    "    if gross_adjust_factor > 1.00:\n",
    "        final_adjust_factor = min(gross_adjust_factor, 1.20)\n",
    "    elif gross_adjust_factor < 1.00:\n",
    "        final_adjust_factor = max(gross_adjust_factor, 0.80)\n",
    "    else:\n",
    "        final_adjust_factor = gross_adjust_factor\n",
    "    \n",
    "    print('Final Adjustment Factor: ', final_adjust_factor)\n",
    "    \n",
    "    ## Calculate the Adjusted CBL values\n",
    "    adjusted_cbl_values = final_adjust_factor * subset_8\n",
    "    \n",
    "    ## Print Results\n",
    "    impact = adjusted_cbl_values - subset_1.loc['2017-06-13 14:00:00':'2017-06-13 18:00:00']['kwh'].values\n",
    "    print('Customer impact after subtracting weather-sensitive CBL:\\n', impact)\n",
    "    print('\\n')\n",
    "    \n",
    "#     return adjusted_cbl_values, subset_1.loc['2017-06-13 14:00:00':'2017-06-13 18:00:00']"
   ]
  },
  {
   "cell_type": "markdown",
   "metadata": {},
   "source": [
    "### Run Calculations for All Resources"
   ]
  },
  {
   "cell_type": "code",
   "execution_count": 219,
   "metadata": {},
   "outputs": [
    {
     "name": "stdout",
     "output_type": "stream",
     "text": [
      "Resource: site_1.csv\n",
      "CSV has 4896 rows and 1 column(s)\n",
      "Event Hours: [14, 15, 16, 17, 18]\n",
      "Adjustment Hours: [10, 11]\n",
      "Event date: 2017-06-13\n",
      "30 days prior date: 2017-05-14\n",
      "Seed value: 5254.2\n",
      "Final Adjustment Factor:  1.009071204945011\n",
      "Customer impact after subtracting weather-sensitive CBL:\n",
      " hour\n",
      "14     8833.826925\n",
      "15     6219.489990\n",
      "16     7589.205170\n",
      "17    -4965.445003\n",
      "18    11726.613470\n",
      "Name: kwh, dtype: float64\n",
      "\n",
      "\n",
      "Resource: site_2.csv\n",
      "CSV has 4896 rows and 1 column(s)\n",
      "Event Hours: [14, 15, 16, 17, 18]\n",
      "Adjustment Hours: [10, 11]\n",
      "Event date: 2017-06-13\n",
      "30 days prior date: 2017-05-14\n",
      "Seed value: 1292.4\n",
      "Final Adjustment Factor:  1.0891709763359976\n",
      "Customer impact after subtracting weather-sensitive CBL:\n",
      " hour\n",
      "14    5169.805924\n",
      "15    5020.522990\n",
      "16    4962.776305\n",
      "17    2962.712553\n",
      "18     705.333709\n",
      "Name: kwh, dtype: float64\n",
      "\n",
      "\n",
      "Resource: site_3.csv\n",
      "CSV has 4896 rows and 1 column(s)\n",
      "Event Hours: [14, 15, 16, 17, 18]\n",
      "Adjustment Hours: [10, 11]\n"
     ]
    },
    {
     "name": "stderr",
     "output_type": "stream",
     "text": [
      "/Users/johnsylvester1/anaconda2/envs/newvenv/lib/python3.6/site-packages/ipykernel_launcher.py:28: SettingWithCopyWarning: \n",
      "A value is trying to be set on a copy of a slice from a DataFrame.\n",
      "Try using .loc[row_indexer,col_indexer] = value instead\n",
      "\n",
      "See the caveats in the documentation: https://pandas.pydata.org/pandas-docs/stable/user_guide/indexing.html#returning-a-view-versus-a-copy\n"
     ]
    },
    {
     "name": "stdout",
     "output_type": "stream",
     "text": [
      "Event date: 2017-06-13\n",
      "30 days prior date: 2017-05-14\n",
      "Seed value: 230.94\n",
      "Final Adjustment Factor:  1.0550849261419268\n",
      "Customer impact after subtracting weather-sensitive CBL:\n",
      " hour\n",
      "14    915.695546\n",
      "15    908.858596\n",
      "16    856.669875\n",
      "17    326.359363\n",
      "18    137.598234\n",
      "Name: kwh, dtype: float64\n",
      "\n",
      "\n",
      "Resource: site_5.csv\n",
      "CSV has 4896 rows and 1 column(s)\n",
      "Event Hours: [14, 15, 16, 17, 18]\n",
      "Adjustment Hours: [10, 11]\n",
      "Event date: 2017-06-13\n",
      "30 days prior date: 2017-05-14\n",
      "Seed value: 2517.87\n",
      "Final Adjustment Factor:  0.8\n",
      "Customer impact after subtracting weather-sensitive CBL:\n",
      " hour\n",
      "14    2085.7680\n",
      "15    1494.6672\n",
      "16    2019.2736\n",
      "17     770.4576\n",
      "18   -1673.6400\n",
      "Name: kwh, dtype: float64\n",
      "\n",
      "\n",
      "Resource: site_6.csv\n",
      "CSV has 4896 rows and 1 column(s)\n",
      "Event Hours: [14, 15, 16, 17, 18]\n",
      "Adjustment Hours: [10, 11]\n",
      "Event date: 2017-06-13\n",
      "30 days prior date: 2017-05-14\n",
      "Seed value: 93.15\n",
      "Final Adjustment Factor:  1.2\n",
      "Customer impact after subtracting weather-sensitive CBL:\n",
      " hour\n",
      "14     69.7824\n",
      "15    116.2296\n",
      "16    123.7752\n",
      "17     84.8016\n",
      "18     75.4704\n",
      "Name: kwh, dtype: float64\n",
      "\n",
      "\n"
     ]
    }
   ],
   "source": [
    "date = '2017-06-13'\n",
    "start_hour = 14\n",
    "end_hour = 18\n",
    "\n",
    "calculate_cbl(clean_dataset('site_1.csv'), date, start_hour, end_hour)\n",
    "calculate_cbl(clean_dataset('site_2.csv'), date, start_hour, end_hour)\n",
    "calculate_cbl(clean_dataset('site_3.csv'), date, start_hour, end_hour)\n",
    "calculate_cbl(clean_dataset('site_5.csv'), date, start_hour, end_hour)\n",
    "calculate_cbl(clean_dataset('site_6.csv'), date, start_hour, end_hour)"
   ]
  },
  {
   "cell_type": "markdown",
   "metadata": {},
   "source": [
    "### Visualize Impact of Individual Resource - Site 2"
   ]
  },
  {
   "cell_type": "code",
   "execution_count": 186,
   "metadata": {},
   "outputs": [
    {
     "name": "stdout",
     "output_type": "stream",
     "text": [
      "Resource: site_2.csv\n",
      "CSV has 4896 rows and 1 column(s)\n",
      "Event Hours: [14, 15, 16, 17, 18]\n",
      "Adjustment Hours: [10, 11]\n",
      "Event date: 2017-06-13\n",
      "30 days prior date: 2017-05-14\n",
      "Seed value: 1292.4\n",
      "Final Adjustment Factor:  1.0891709763359976\n",
      "Customer impact after subtracting weather-sensitive CBL:\n",
      " hour\n",
      "14    5169.805924\n",
      "15    5020.522990\n",
      "16    4962.776305\n",
      "17    2962.712553\n",
      "18     705.333709\n",
      "Name: kwh, dtype: float64\n",
      "\n",
      "\n"
     ]
    },
    {
     "name": "stderr",
     "output_type": "stream",
     "text": [
      "/Users/johnsylvester1/anaconda2/envs/newvenv/lib/python3.6/site-packages/ipykernel_launcher.py:28: SettingWithCopyWarning: \n",
      "A value is trying to be set on a copy of a slice from a DataFrame.\n",
      "Try using .loc[row_indexer,col_indexer] = value instead\n",
      "\n",
      "See the caveats in the documentation: https://pandas.pydata.org/pandas-docs/stable/user_guide/indexing.html#returning-a-view-versus-a-copy\n"
     ]
    }
   ],
   "source": [
    "cbl, event_data = calculate_cbl(clean_dataset('site_2.csv'), date, start_hour, end_hour)\n"
   ]
  },
  {
   "cell_type": "code",
   "execution_count": 187,
   "metadata": {},
   "outputs": [],
   "source": [
    "cbl = cbl.reset_index()"
   ]
  },
  {
   "cell_type": "code",
   "execution_count": 188,
   "metadata": {},
   "outputs": [
    {
     "data": {
      "text/html": [
       "<div>\n",
       "<style scoped>\n",
       "    .dataframe tbody tr th:only-of-type {\n",
       "        vertical-align: middle;\n",
       "    }\n",
       "\n",
       "    .dataframe tbody tr th {\n",
       "        vertical-align: top;\n",
       "    }\n",
       "\n",
       "    .dataframe thead th {\n",
       "        text-align: right;\n",
       "    }\n",
       "</style>\n",
       "<table border=\"1\" class=\"dataframe\">\n",
       "  <thead>\n",
       "    <tr style=\"text-align: right;\">\n",
       "      <th></th>\n",
       "      <th>hour</th>\n",
       "      <th>kwh</th>\n",
       "    </tr>\n",
       "  </thead>\n",
       "  <tbody>\n",
       "    <tr>\n",
       "      <th>0</th>\n",
       "      <td>14</td>\n",
       "      <td>5490.205924</td>\n",
       "    </tr>\n",
       "    <tr>\n",
       "      <th>1</th>\n",
       "      <td>15</td>\n",
       "      <td>5355.322990</td>\n",
       "    </tr>\n",
       "    <tr>\n",
       "      <th>2</th>\n",
       "      <td>16</td>\n",
       "      <td>5283.176305</td>\n",
       "    </tr>\n",
       "    <tr>\n",
       "      <th>3</th>\n",
       "      <td>17</td>\n",
       "      <td>5345.912553</td>\n",
       "    </tr>\n",
       "    <tr>\n",
       "      <th>4</th>\n",
       "      <td>18</td>\n",
       "      <td>5334.933709</td>\n",
       "    </tr>\n",
       "  </tbody>\n",
       "</table>\n",
       "</div>"
      ],
      "text/plain": [
       "   hour          kwh\n",
       "0    14  5490.205924\n",
       "1    15  5355.322990\n",
       "2    16  5283.176305\n",
       "3    17  5345.912553\n",
       "4    18  5334.933709"
      ]
     },
     "execution_count": 188,
     "metadata": {},
     "output_type": "execute_result"
    }
   ],
   "source": [
    "cbl"
   ]
  },
  {
   "cell_type": "code",
   "execution_count": 193,
   "metadata": {},
   "outputs": [],
   "source": [
    "event_data.index = event_data.hour\n",
    "event_data.drop(columns='hour', inplace=True)"
   ]
  },
  {
   "cell_type": "code",
   "execution_count": 194,
   "metadata": {},
   "outputs": [
    {
     "data": {
      "text/html": [
       "<div>\n",
       "<style scoped>\n",
       "    .dataframe tbody tr th:only-of-type {\n",
       "        vertical-align: middle;\n",
       "    }\n",
       "\n",
       "    .dataframe tbody tr th {\n",
       "        vertical-align: top;\n",
       "    }\n",
       "\n",
       "    .dataframe thead th {\n",
       "        text-align: right;\n",
       "    }\n",
       "</style>\n",
       "<table border=\"1\" class=\"dataframe\">\n",
       "  <thead>\n",
       "    <tr style=\"text-align: right;\">\n",
       "      <th></th>\n",
       "      <th>kwh</th>\n",
       "    </tr>\n",
       "    <tr>\n",
       "      <th>hour</th>\n",
       "      <th></th>\n",
       "    </tr>\n",
       "  </thead>\n",
       "  <tbody>\n",
       "    <tr>\n",
       "      <th>14</th>\n",
       "      <td>320.4</td>\n",
       "    </tr>\n",
       "    <tr>\n",
       "      <th>15</th>\n",
       "      <td>334.8</td>\n",
       "    </tr>\n",
       "    <tr>\n",
       "      <th>16</th>\n",
       "      <td>320.4</td>\n",
       "    </tr>\n",
       "    <tr>\n",
       "      <th>17</th>\n",
       "      <td>2383.2</td>\n",
       "    </tr>\n",
       "    <tr>\n",
       "      <th>18</th>\n",
       "      <td>4629.6</td>\n",
       "    </tr>\n",
       "  </tbody>\n",
       "</table>\n",
       "</div>"
      ],
      "text/plain": [
       "         kwh\n",
       "hour        \n",
       "14     320.4\n",
       "15     334.8\n",
       "16     320.4\n",
       "17    2383.2\n",
       "18    4629.6"
      ]
     },
     "execution_count": 194,
     "metadata": {},
     "output_type": "execute_result"
    }
   ],
   "source": [
    "event_data"
   ]
  },
  {
   "cell_type": "code",
   "execution_count": 213,
   "metadata": {},
   "outputs": [],
   "source": [
    "joined = cbl.join(other=event_data, on='hour', lsuffix='_cbl',rsuffix='_res_usage')"
   ]
  },
  {
   "cell_type": "code",
   "execution_count": 214,
   "metadata": {},
   "outputs": [
    {
     "data": {
      "text/html": [
       "<div>\n",
       "<style scoped>\n",
       "    .dataframe tbody tr th:only-of-type {\n",
       "        vertical-align: middle;\n",
       "    }\n",
       "\n",
       "    .dataframe tbody tr th {\n",
       "        vertical-align: top;\n",
       "    }\n",
       "\n",
       "    .dataframe thead th {\n",
       "        text-align: right;\n",
       "    }\n",
       "</style>\n",
       "<table border=\"1\" class=\"dataframe\">\n",
       "  <thead>\n",
       "    <tr style=\"text-align: right;\">\n",
       "      <th></th>\n",
       "      <th>hour</th>\n",
       "      <th>kwh_cbl</th>\n",
       "      <th>kwh_res_usage</th>\n",
       "    </tr>\n",
       "  </thead>\n",
       "  <tbody>\n",
       "    <tr>\n",
       "      <th>0</th>\n",
       "      <td>14</td>\n",
       "      <td>5490.205924</td>\n",
       "      <td>320.4</td>\n",
       "    </tr>\n",
       "    <tr>\n",
       "      <th>1</th>\n",
       "      <td>15</td>\n",
       "      <td>5355.322990</td>\n",
       "      <td>334.8</td>\n",
       "    </tr>\n",
       "    <tr>\n",
       "      <th>2</th>\n",
       "      <td>16</td>\n",
       "      <td>5283.176305</td>\n",
       "      <td>320.4</td>\n",
       "    </tr>\n",
       "    <tr>\n",
       "      <th>3</th>\n",
       "      <td>17</td>\n",
       "      <td>5345.912553</td>\n",
       "      <td>2383.2</td>\n",
       "    </tr>\n",
       "    <tr>\n",
       "      <th>4</th>\n",
       "      <td>18</td>\n",
       "      <td>5334.933709</td>\n",
       "      <td>4629.6</td>\n",
       "    </tr>\n",
       "  </tbody>\n",
       "</table>\n",
       "</div>"
      ],
      "text/plain": [
       "   hour      kwh_cbl  kwh_res_usage\n",
       "0    14  5490.205924          320.4\n",
       "1    15  5355.322990          334.8\n",
       "2    16  5283.176305          320.4\n",
       "3    17  5345.912553         2383.2\n",
       "4    18  5334.933709         4629.6"
      ]
     },
     "execution_count": 214,
     "metadata": {},
     "output_type": "execute_result"
    }
   ],
   "source": [
    "joined"
   ]
  },
  {
   "cell_type": "code",
   "execution_count": 215,
   "metadata": {},
   "outputs": [
    {
     "data": {
      "image/png": "[encoded data removed]",
      "text/plain": [
       "<Figure size 1080x504 with 1 Axes>"
      ]
     },
     "metadata": {
      "needs_background": "light"
     },
     "output_type": "display_data"
    }
   ],
   "source": [
    "joined.plot(x='hour', y=['kwh_cbl','kwh_res_usage'], figsize=(15,7))\n",
    "plt.ylabel('kWh')\n",
    "plt.show()"
   ]
  }
 ],
 "metadata": {
  "kernelspec": {
   "display_name": "Python 3.6.10 64-bit ('newvenv': conda)",
   "language": "python",
   "name": "python361064bitnewvenvconda2806dbe1da31478e98d81ca42ae4a4a3"
  },
  "language_info": {
   "codemirror_mode": {
    "name": "ipython",
    "version": 3
   },
   "file_extension": ".py",
   "mimetype": "text/x-python",
   "name": "python",
   "nbconvert_exporter": "python",
   "pygments_lexer": "ipython3",
   "version": "3.6.10"
  }
 },
 "nbformat": 4,
 "nbformat_minor": 2
}
